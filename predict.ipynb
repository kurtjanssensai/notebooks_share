{
 "cells": [
  {
   "cell_type": "code",
   "execution_count": 1,
   "metadata": {},
   "outputs": [],
   "source": [
    "import os\n",
    "os.environ[\"CUDA_VISIBLE_DEVICES\"]=\"\""
   ]
  },
  {
   "cell_type": "code",
   "execution_count": 2,
   "metadata": {},
   "outputs": [
    {
     "data": {
      "text/plain": [
       "device(type='cpu')"
      ]
     },
     "execution_count": 2,
     "metadata": {},
     "output_type": "execute_result"
    }
   ],
   "source": [
    "import flair\n",
    "flair.device"
   ]
  },
  {
   "cell_type": "code",
   "execution_count": 3,
   "metadata": {},
   "outputs": [],
   "source": [
    "### flair dependancies\n",
    "\n",
    "from flair.models import SequenceTagger\n",
    "from flair.data import Sentence"
   ]
  },
  {
   "cell_type": "code",
   "execution_count": 5,
   "metadata": {},
   "outputs": [],
   "source": [
    "### hack to load pdf2txt\n",
    "import sys\n",
    "sys.path.insert(0,'Pieter/eml-to-txt/pdf2text/')\n",
    "\n",
    "### pdf2text dependancies\n",
    "### xmltodict\n",
    "\n",
    "from src.pdf.converter import PDFConverter\n",
    "from src.pdf.writer import PDFWriter\n",
    "from src.pdf.util import FrontendIndexMapping\n",
    "\n",
    "\n",
    "def process_pdf(pdf_file):\n",
    "    # Copy pdf-file to temp\n",
    "    PDFWriter.copy_pdf_to_tmp(pdf_file)\n",
    "\n",
    "    # Convert temporary pdf file\n",
    "    pdf_as_json, word_boundaries = PDFConverter.convert_pdf_to_dict()\n",
    "\n",
    "    # Convert json to text\n",
    "    frontend_index_mapping = FrontendIndexMapping(\n",
    "        pdf_as_json\n",
    "    )\n",
    "\n",
    "    return frontend_index_mapping.text()\n"
   ]
  },
  {
   "cell_type": "code",
   "execution_count": null,
   "metadata": {},
   "outputs": [],
   "source": []
  },
  {
   "cell_type": "code",
   "execution_count": 221,
   "metadata": {},
   "outputs": [],
   "source": [
    "import os\n",
    "import numpy as np"
   ]
  },
  {
   "cell_type": "code",
   "execution_count": 222,
   "metadata": {},
   "outputs": [],
   "source": [
    "folder = 'data/Mail_Exports'"
   ]
  },
  {
   "cell_type": "code",
   "execution_count": 223,
   "metadata": {},
   "outputs": [
    {
     "data": {
      "text/plain": [
       "'Opdrachtbevestiging_0045478233_20200804.PDF'"
      ]
     },
     "execution_count": 223,
     "metadata": {},
     "output_type": "execute_result"
    }
   ],
   "source": [
    "file = np.random.choice(os.listdir(folder))\n",
    "file"
   ]
  },
  {
   "cell_type": "code",
   "execution_count": null,
   "metadata": {},
   "outputs": [],
   "source": []
  },
  {
   "cell_type": "code",
   "execution_count": 224,
   "metadata": {},
   "outputs": [],
   "source": [
    "pdf_txt = process_pdf(os.path.join(folder,file))"
   ]
  },
  {
   "cell_type": "code",
   "execution_count": 225,
   "metadata": {},
   "outputs": [],
   "source": [
    "import spacy"
   ]
  },
  {
   "cell_type": "code",
   "execution_count": 226,
   "metadata": {},
   "outputs": [],
   "source": [
    "nlp = spacy.blank(\"nl\")"
   ]
  },
  {
   "cell_type": "code",
   "execution_count": 227,
   "metadata": {},
   "outputs": [
    {
     "data": {
      "text/plain": [
       "[{'text': '\\n', 'offset': 0},\n",
       " {'text': 'TTI', 'offset': 1},\n",
       " {'text': 'Central', 'offset': 5},\n",
       " {'text': 'Europe', 'offset': 13},\n",
       " {'text': '\\n', 'offset': 19},\n",
       " {'text': 'Opdrachtbevestiging', 'offset': 20},\n",
       " {'text': '\\t', 'offset': 39},\n",
       " {'text': 'Pagina', 'offset': 40},\n",
       " {'text': ' ', 'offset': 47},\n",
       " {'text': '1', 'offset': 48}]"
      ]
     },
     "execution_count": 227,
     "metadata": {},
     "output_type": "execute_result"
    }
   ],
   "source": [
    "### get text and char offset from spacy tokens\n",
    "tokens = [{'text':str(token),'offset':token.idx} for token in nlp(pdf_txt)]\n",
    "tokens[:10]"
   ]
  },
  {
   "cell_type": "code",
   "execution_count": 228,
   "metadata": {},
   "outputs": [
    {
     "data": {
      "text/plain": [
       "[{'text': 'TTI', 'offset': 1},\n",
       " {'text': 'Central', 'offset': 5},\n",
       " {'text': 'Europe', 'offset': 13},\n",
       " {'text': 'Opdrachtbevestiging', 'offset': 20},\n",
       " {'text': 'Pagina', 'offset': 40},\n",
       " {'text': '1', 'offset': 48},\n",
       " {'text': '/1', 'offset': 50},\n",
       " {'text': 'Opdrachtbevestigingsnr', 'offset': 53},\n",
       " {'text': '.', 'offset': 75},\n",
       " {'text': '0045478233', 'offset': 77}]"
      ]
     },
     "execution_count": 228,
     "metadata": {},
     "output_type": "execute_result"
    }
   ],
   "source": [
    "### remove whitespace\n",
    "tokens = [token for token in tokens if len(token['text'].strip())>0]\n",
    "tokens[:10]"
   ]
  },
  {
   "cell_type": "code",
   "execution_count": null,
   "metadata": {},
   "outputs": [],
   "source": []
  },
  {
   "cell_type": "code",
   "execution_count": 229,
   "metadata": {},
   "outputs": [],
   "source": [
    "stride = 10\n",
    "context_lenght = 40"
   ]
  },
  {
   "cell_type": "code",
   "execution_count": 230,
   "metadata": {},
   "outputs": [
    {
     "name": "stdout",
     "output_type": "stream",
     "text": [
      "****************************************************************************************************\n",
      "TTI Central Europe Opdrachtbevestiging Pagina 1 /1 Opdrachtbevestigingsnr . 0045478233 Besteldatum 04.08.2020 Klantnr . 0400033121 Techtronic Industries Central Europe GmbH , Postfach 100833 , DE-40708 Hilden Inkoopordernr . 500-15221 Inkooporder datum 04.08.2020 Contactpersoon TTI Adnane Boujnane Factuuradres Leveringsadres VAN MARCKE\n",
      "337\n",
      "[(0, 1), (4, 5), (12, 13), (19, 20), (39, 40), (46, 48), (48, 50), (51, 53), (74, 75), (76, 77), (87, 88), (99, 100), (110, 111), (118, 118), (120, 120), (131, 131), (142, 142), (153, 153), (161, 161), (168, 168), (173, 172), (175, 174), (184, 183), (191, 189), (193, 191), (202, 200), (209, 207), (223, 220), (225, 222), (235, 232), (247, 244), (253, 250), (264, 261), (279, 276), (283, 280), (290, 287), (299, 296), (312, 309), (327, 324), (331, 328)]\n",
      "****************************************************************************************************\n",
      "Besteldatum 04.08.2020 Klantnr . 0400033121 Techtronic Industries Central Europe GmbH , Postfach 100833 , DE-40708 Hilden Inkoopordernr . 500-15221 Inkooporder datum 04.08.2020 Contactpersoon TTI Adnane Boujnane Factuuradres Leveringsadres VAN MARCKE NV LAR BLOK Z 5A VAN MARCKE EDC * liv\n",
      "288\n",
      "[(0, 88), (12, 100), (23, 111), (31, 118), (33, 120), (44, 131), (55, 142), (66, 153), (74, 161), (81, 168), (86, 172), (88, 174), (97, 183), (104, 189), (106, 191), (115, 200), (122, 207), (136, 220), (138, 222), (148, 232), (160, 244), (166, 250), (177, 261), (192, 276), (196, 280), (203, 287), (212, 296), (225, 309), (240, 324), (244, 328), (251, 335), (254, 339), (258, 343), (263, 348), (265, 350), (268, 354), (272, 358), (279, 365), (283, 369), (285, 370)]\n",
      "****************************************************************************************************\n",
      ", Postfach 100833 , DE-40708 Hilden Inkoopordernr . 500-15221 Inkooporder datum 04.08.2020 Contactpersoon TTI Adnane Boujnane Factuuradres Leveringsadres VAN MARCKE NV LAR BLOK Z 5A VAN MARCKE EDC * liv * B-8511 COURTRAI ( AALBEKE ) LAR BLOK Z 5\n",
      "245\n",
      "[(0, 172), (2, 174), (11, 183), (18, 189), (20, 191), (29, 200), (36, 207), (50, 220), (52, 222), (62, 232), (74, 244), (80, 250), (91, 261), (106, 276), (110, 280), (117, 287), (126, 296), (139, 309), (154, 324), (158, 328), (165, 335), (168, 339), (172, 343), (177, 348), (179, 350), (182, 354), (186, 358), (193, 365), (197, 369), (199, 370), (203, 373), (205, 376), (212, 383), (221, 392), (223, 393), (231, 400), (233, 402), (237, 406), (242, 411), (244, 413)]\n",
      "****************************************************************************************************\n",
      "datum 04.08.2020 Contactpersoon TTI Adnane Boujnane Factuuradres Leveringsadres VAN MARCKE NV LAR BLOK Z 5A VAN MARCKE EDC * liv * B-8511 COURTRAI ( AALBEKE ) LAR BLOK Z 5 B-8511 COURTRAI ( AALBEKE ) Regelnr . Artikelnr . Artikelomschrijving\n",
      "241\n",
      "[(0, 244), (6, 250), (17, 261), (32, 276), (36, 280), (43, 287), (52, 296), (65, 309), (80, 324), (84, 328), (91, 335), (94, 339), (98, 343), (103, 348), (105, 350), (108, 354), (112, 358), (119, 365), (123, 369), (125, 370), (129, 373), (131, 376), (138, 383), (147, 392), (149, 393), (157, 400), (159, 402), (163, 406), (168, 411), (170, 413), (172, 416), (179, 423), (188, 432), (190, 433), (198, 440), (200, 442), (208, 449), (210, 451), (220, 460), (222, 462)]\n",
      "****************************************************************************************************\n",
      "NV LAR BLOK Z 5A VAN MARCKE EDC * liv * B-8511 COURTRAI ( AALBEKE ) LAR BLOK Z 5 B-8511 COURTRAI ( AALBEKE ) Regelnr . Artikelnr . Artikelomschrijving Aant./Eenh . Prijs/Eenh . Bedrag EAN EUR Artikelnr . Klant\n",
      "209\n",
      "[(0, 335), (3, 339), (7, 343), (12, 348), (14, 350), (17, 354), (21, 358), (28, 365), (32, 369), (34, 370), (38, 373), (40, 376), (47, 383), (56, 392), (58, 393), (66, 400), (68, 402), (72, 406), (77, 411), (79, 413), (81, 416), (88, 423), (97, 432), (99, 433), (107, 440), (109, 442), (117, 449), (119, 451), (129, 460), (131, 462), (151, 482), (162, 492), (164, 494), (175, 504), (177, 506), (184, 513), (188, 517), (192, 521), (202, 530), (204, 532)]\n",
      "****************************************************************************************************\n",
      "* B-8511 COURTRAI ( AALBEKE ) LAR BLOK Z 5 B-8511 COURTRAI ( AALBEKE ) Regelnr . Artikelnr . Artikelomschrijving Aant./Eenh . Prijs/Eenh . Bedrag EAN EUR Artikelnr . Klant 100 48005226 SAEBELSAEGEBLATT 230 4 ST 32,90 / 1 Prijs\n",
      "226\n",
      "[(0, 373), (2, 376), (9, 383), (18, 392), (20, 393), (28, 400), (30, 402), (34, 406), (39, 411), (41, 413), (43, 416), (50, 423), (59, 432), (61, 433), (69, 440), (71, 442), (79, 449), (81, 451), (91, 460), (93, 462), (113, 482), (124, 492), (126, 494), (137, 504), (139, 506), (146, 513), (150, 517), (154, 521), (164, 530), (166, 532), (172, 541), (176, 545), (185, 554), (202, 571), (206, 575), (208, 577), (211, 580), (217, 586), (219, 588), (221, 590)]\n",
      "****************************************************************************************************\n",
      "B-8511 COURTRAI ( AALBEKE ) Regelnr . Artikelnr . Artikelomschrijving Aant./Eenh . Prijs/Eenh . Bedrag EAN EUR Artikelnr . Klant 100 48005226 SAEBELSAEGEBLATT 230 4 ST 32,90 / 1 Prijs 131,60 045242483723 60% -78,96 /5MM ( 1 ) AX Carbide\n",
      "236\n",
      "[(0, 416), (7, 423), (16, 432), (18, 433), (26, 440), (28, 442), (36, 449), (38, 451), (48, 460), (50, 462), (70, 482), (81, 492), (83, 494), (94, 504), (96, 506), (103, 513), (107, 517), (111, 521), (121, 530), (123, 532), (129, 541), (133, 545), (142, 554), (159, 571), (163, 575), (165, 577), (168, 580), (174, 586), (176, 588), (178, 590), (184, 596), (191, 603), (204, 616), (208, 620), (215, 627), (220, 632), (222, 633), (224, 634), (226, 636), (229, 639)]\n",
      "****************************************************************************************************\n",
      "Aant./Eenh . Prijs/Eenh . Bedrag EAN EUR Artikelnr . Klant 100 48005226 SAEBELSAEGEBLATT 230 4 ST 32,90 / 1 Prijs 131,60 045242483723 60% -78,96 /5MM ( 1 ) AX Carbide ETA 06.08.2020 Netto prijs 52,64 EUR 52,64 Totaalprijs excl .\n",
      "228\n",
      "[(0, 482), (11, 492), (13, 494), (24, 504), (26, 506), (33, 513), (37, 517), (41, 521), (51, 530), (53, 532), (59, 541), (63, 545), (72, 554), (89, 571), (93, 575), (95, 577), (98, 580), (104, 586), (106, 588), (108, 590), (114, 596), (121, 603), (134, 616), (138, 620), (145, 627), (150, 632), (152, 633), (154, 634), (156, 636), (159, 639), (167, 647), (171, 651), (182, 662), (188, 668), (194, 674), (200, 680), (204, 684), (210, 690), (222, 702), (227, 706)]\n",
      "****************************************************************************************************\n",
      "100 48005226 SAEBELSAEGEBLATT 230 4 ST 32,90 / 1 Prijs 131,60 045242483723 60% -78,96 /5MM ( 1 ) AX Carbide ETA 06.08.2020 Netto prijs 52,64 EUR 52,64 Totaalprijs excl . Btw Btw 21% EUR 11,05 Factuurbedrag incl . Btw EUR\n",
      "220\n",
      "[(0, 541), (4, 545), (13, 554), (30, 571), (34, 575), (36, 577), (39, 580), (45, 586), (47, 588), (49, 590), (55, 596), (62, 603), (75, 616), (79, 620), (86, 627), (91, 632), (93, 633), (95, 634), (97, 636), (100, 639), (108, 647), (112, 651), (123, 662), (129, 668), (135, 674), (141, 680), (145, 684), (151, 690), (163, 702), (168, 706), (170, 708), (174, 712), (178, 716), (182, 720), (186, 724), (192, 730), (206, 744), (211, 748), (213, 750), (217, 754)]\n",
      "****************************************************************************************************\n",
      "131,60 045242483723 60% -78,96 /5MM ( 1 ) AX Carbide ETA 06.08.2020 Netto prijs 52,64 EUR 52,64 Totaalprijs excl . Btw Btw 21% EUR 11,05 Factuurbedrag incl . Btw EUR 63,69 Betalingsvoorwaarden Innerhalb 10 Tagen 2,000 % Skonto Innerhalb 30\n",
      "239\n",
      "[(0, 596), (7, 603), (20, 616), (24, 620), (31, 627), (36, 632), (38, 633), (40, 634), (42, 636), (45, 639), (53, 647), (57, 651), (68, 662), (74, 668), (80, 674), (86, 680), (90, 684), (96, 690), (108, 702), (113, 706), (115, 708), (119, 712), (123, 716), (127, 720), (131, 724), (137, 730), (151, 744), (156, 748), (158, 750), (162, 754), (166, 758), (172, 764), (193, 785), (203, 796), (206, 799), (212, 805), (218, 812), (220, 814), (227, 821), (237, 832)]\n",
      "****************************************************************************************************\n",
      "ETA 06.08.2020 Netto prijs 52,64 EUR 52,64 Totaalprijs excl . Btw Btw 21% EUR 11,05 Factuurbedrag incl . Btw EUR 63,69 Betalingsvoorwaarden Innerhalb 10 Tagen 2,000 % Skonto Innerhalb 30 Tagen ohne Abzug Leveringsvoorwaarden DDP KORTRIJK Techtronic Industries Central Europe\n",
      "274\n",
      "[(0, 647), (4, 651), (15, 662), (21, 668), (27, 674), (33, 680), (37, 684), (43, 690), (55, 702), (60, 706), (62, 708), (66, 712), (70, 716), (74, 720), (78, 724), (84, 730), (98, 744), (103, 748), (105, 750), (109, 754), (113, 758), (119, 764), (140, 785), (150, 796), (153, 799), (159, 805), (165, 812), (167, 814), (174, 821), (184, 832), (187, 835), (193, 841), (198, 846), (204, 852), (225, 873), (229, 877), (238, 886), (249, 897), (260, 908), (268, 916)]\n",
      "****************************************************************************************************\n",
      "Btw Btw 21% EUR 11,05 Factuurbedrag incl . Btw EUR 63,69 Betalingsvoorwaarden Innerhalb 10 Tagen 2,000 % Skonto Innerhalb 30 Tagen ohne Abzug Leveringsvoorwaarden DDP KORTRIJK Techtronic Industries Central Europe GmbH Local Contact : Bank : Deutsche Bank AG Itterpark\n",
      "267\n",
      "[(0, 708), (4, 712), (8, 716), (12, 720), (16, 724), (22, 730), (36, 744), (41, 748), (43, 750), (47, 754), (51, 758), (57, 764), (78, 785), (88, 796), (91, 799), (97, 805), (103, 812), (105, 814), (112, 821), (122, 832), (125, 835), (131, 841), (136, 846), (142, 852), (163, 873), (167, 877), (176, 886), (187, 897), (198, 908), (206, 916), (213, 923), (218, 929), (224, 935), (232, 942), (234, 945), (239, 949), (241, 951), (250, 960), (255, 965), (258, 969)]\n",
      "****************************************************************************************************\n",
      "63,69 Betalingsvoorwaarden Innerhalb 10 Tagen 2,000 % Skonto Innerhalb 30 Tagen ohne Abzug Leveringsvoorwaarden DDP KORTRIJK Techtronic Industries Central Europe GmbH Local Contact : Bank : Deutsche Bank AG Itterpark 2 , DE-40724 Hilden TTI Office Belgium IBAN : DE41360700500101736702\n",
      "285\n",
      "[(0, 758), (6, 764), (27, 785), (37, 796), (40, 799), (46, 805), (52, 812), (54, 814), (61, 821), (71, 832), (74, 835), (80, 841), (85, 846), (91, 852), (112, 873), (116, 877), (125, 886), (136, 897), (147, 908), (155, 916), (162, 923), (167, 929), (173, 935), (181, 942), (183, 945), (188, 949), (190, 951), (199, 960), (204, 965), (207, 969), (217, 979), (219, 980), (221, 982), (230, 991), (237, 999), (241, 1003), (248, 1010), (256, 1019), (261, 1023), (263, 1025)]\n",
      "****************************************************************************************************\n",
      "Tagen ohne Abzug Leveringsvoorwaarden DDP KORTRIJK Techtronic Industries Central Europe GmbH Local Contact : Bank : Deutsche Bank AG Itterpark 2 , DE-40724 Hilden TTI Office Belgium IBAN : DE41360700500101736702 HRB Düsseldorf 53039 Keizer Karellaan 584 SWIFT-BIC : DEUTDEDEXXX VAT-IdNo\n",
      "286\n",
      "[(0, 835), (6, 841), (11, 846), (17, 852), (38, 873), (42, 877), (51, 886), (62, 897), (73, 908), (81, 916), (88, 923), (93, 929), (99, 935), (107, 942), (109, 945), (114, 949), (116, 951), (125, 960), (130, 965), (133, 969), (143, 979), (145, 980), (147, 982), (156, 991), (163, 999), (167, 1003), (174, 1010), (182, 1019), (187, 1023), (189, 1025), (212, 1049), (216, 1053), (227, 1064), (233, 1071), (240, 1078), (250, 1088), (254, 1093), (264, 1102), (266, 1104), (278, 1117)]\n",
      "****************************************************************************************************\n",
      "GmbH Local Contact : Bank : Deutsche Bank AG Itterpark 2 , DE-40724 Hilden TTI Office Belgium IBAN : DE41360700500101736702 HRB Düsseldorf 53039 Keizer Karellaan 584 SWIFT-BIC : DEUTDEDEXXX VAT-IdNo . BE0567.565.212 BE-1082 Brussel Managing Director : Stefan Schütz ,\n",
      "267\n",
      "[(0, 923), (5, 929), (11, 935), (19, 942), (21, 945), (26, 949), (28, 951), (37, 960), (42, 965), (45, 969), (55, 979), (57, 980), (59, 982), (68, 991), (75, 999), (79, 1003), (86, 1010), (94, 1019), (99, 1023), (101, 1025), (124, 1049), (128, 1053), (139, 1064), (145, 1071), (152, 1078), (162, 1088), (166, 1093), (176, 1102), (178, 1104), (190, 1117), (199, 1125), (201, 1127), (216, 1143), (224, 1151), (232, 1163), (241, 1172), (250, 1180), (252, 1182), (259, 1189), (266, 1195)]\n",
      "****************************************************************************************************\n",
      "2 , DE-40724 Hilden TTI Office Belgium IBAN : DE41360700500101736702 HRB Düsseldorf 53039 Keizer Karellaan 584 SWIFT-BIC : DEUTDEDEXXX VAT-IdNo . BE0567.565.212 BE-1082 Brussel Managing Director : Stefan Schütz , Arthur Arlt , Phone : +32 ( 0)70 21 02\n",
      "251\n",
      "[(0, 979), (2, 980), (4, 982), (13, 991), (20, 999), (24, 1003), (31, 1010), (39, 1019), (44, 1023), (46, 1025), (69, 1049), (73, 1053), (84, 1064), (90, 1071), (97, 1078), (107, 1088), (111, 1093), (121, 1102), (123, 1104), (135, 1117), (144, 1125), (146, 1127), (161, 1143), (169, 1151), (177, 1163), (186, 1172), (195, 1180), (197, 1182), (204, 1189), (211, 1195), (213, 1197), (220, 1204), (225, 1208), (227, 1211), (233, 1217), (235, 1219), (239, 1223), (241, 1224), (246, 1229), (249, 1232)]\n",
      "****************************************************************************************************\n",
      "HRB Düsseldorf 53039 Keizer Karellaan 584 SWIFT-BIC : DEUTDEDEXXX VAT-IdNo . BE0567.565.212 BE-1082 Brussel Managing Director : Stefan Schütz , Arthur Arlt , Phone : +32 ( 0)70 21 02 22 Alexandre Duarte Fax : +32 ( 0)70 21 02\n",
      "225\n",
      "[(0, 1049), (4, 1053), (15, 1064), (21, 1071), (28, 1078), (38, 1088), (42, 1093), (52, 1102), (54, 1104), (66, 1117), (75, 1125), (77, 1127), (92, 1143), (100, 1151), (108, 1163), (117, 1172), (126, 1180), (128, 1182), (135, 1189), (142, 1195), (144, 1197), (151, 1204), (156, 1208), (158, 1211), (164, 1217), (166, 1219), (170, 1223), (172, 1224), (177, 1229), (180, 1232), (183, 1235), (186, 1239), (196, 1249), (203, 1257), (207, 1261), (209, 1263), (213, 1267), (215, 1268), (220, 1273), (223, 1276)]\n",
      "****************************************************************************************************\n",
      ". BE0567.565.212 BE-1082 Brussel Managing Director : Stefan Schütz , Arthur Arlt , Phone : +32 ( 0)70 21 02 22 Alexandre Duarte Fax : +32 ( 0)70 21 02 21\n",
      "153\n",
      "[(0, 1125), (2, 1127), (17, 1143), (25, 1151), (33, 1163), (42, 1172), (51, 1180), (53, 1182), (60, 1189), (67, 1195), (69, 1197), (76, 1204), (81, 1208), (83, 1211), (89, 1217), (91, 1219), (95, 1223), (97, 1224), (102, 1229), (105, 1232), (108, 1235), (111, 1239), (121, 1249), (128, 1257), (132, 1261), (134, 1263), (138, 1267), (140, 1268), (145, 1273), (148, 1276), (151, 1279)]\n",
      "****************************************************************************************************\n",
      "Arthur Arlt , Phone : +32 ( 0)70 21 02 22 Alexandre Duarte Fax : +32 ( 0)70 21 02 21\n",
      "84\n",
      "[(0, 1197), (7, 1204), (12, 1208), (14, 1211), (20, 1217), (22, 1219), (26, 1223), (28, 1224), (33, 1229), (36, 1232), (39, 1235), (42, 1239), (52, 1249), (59, 1257), (63, 1261), (65, 1263), (69, 1267), (71, 1268), (76, 1273), (79, 1276), (82, 1279)]\n",
      "****************************************************************************************************\n",
      "22 Alexandre Duarte Fax : +32 ( 0)70 21 02 21\n",
      "45\n",
      "[(0, 1235), (3, 1239), (13, 1249), (20, 1257), (24, 1261), (26, 1263), (30, 1267), (32, 1268), (37, 1273), (40, 1276), (43, 1279)]\n",
      "****************************************************************************************************\n",
      "21\n",
      "2\n",
      "[(0, 1279)]\n",
      "CPU times: user 12.6 ms, sys: 4.06 ms, total: 16.7 ms\n",
      "Wall time: 15.8 ms\n"
     ]
    }
   ],
   "source": [
    "%%time\n",
    "sentences = []\n",
    "offset_mappings = []\n",
    "for x in range(0,len(tokens),stride):\n",
    "    print('*'*100)\n",
    "    text = ' '.join([token['text'] for token in tokens[x:x+context_lenght]])\n",
    "    print(text)\n",
    "    sentences.append(Sentence(text))\n",
    "    \n",
    "    offset_mapping = []\n",
    "    offset_this = 0\n",
    "    for token in tokens[x:x+context_lenght]:\n",
    "        offset_mapping.append((offset_this,token['offset']))\n",
    "        offset_this += len(token['text'])+1\n",
    "    offset_mappings.append(offset_mapping)\n",
    "    print(len(text))\n",
    "    print(offset_mapping)"
   ]
  },
  {
   "cell_type": "code",
   "execution_count": 231,
   "metadata": {},
   "outputs": [
    {
     "name": "stdout",
     "output_type": "stream",
     "text": [
      "2020-08-14 16:00:07,426 loading file flair/models/first_test/best-model.pt\n",
      "CPU times: user 9.42 s, sys: 612 ms, total: 10 s\n",
      "Wall time: 3.45 s\n"
     ]
    }
   ],
   "source": [
    "%%time\n",
    "\n",
    "# load the model you trained\n",
    "model = SequenceTagger.load('flair/models/first_test/best-model.pt')\n",
    "\n",
    "# predict tags and print\n",
    "model.predict(sentences,all_tag_prob=True)\n",
    "\n"
   ]
  },
  {
   "cell_type": "code",
   "execution_count": 232,
   "metadata": {},
   "outputs": [],
   "source": [
    "def find_offset(offset_mapping,x):\n",
    "    for i,om in enumerate(offset_mapping):\n",
    "        if om[0]>x:\n",
    "            break\n",
    "    om = offset_mapping[i-1]\n",
    "    return om[1] - om[0] + x"
   ]
  },
  {
   "cell_type": "code",
   "execution_count": 233,
   "metadata": {
    "scrolled": false
   },
   "outputs": [
    {
     "name": "stdout",
     "output_type": "stream",
     "text": [
      "****************************************************************************************************\n",
      "Sentence: \"TTI Central Europe Opdrachtbevestiging Pagina 1 /1 Opdrachtbevestigingsnr . 0045478233 Besteldatum 04.08.2020 Klantnr . 0400033121 Techtronic Industries Central Europe GmbH , Postfach 100833 , DE-40708 Hilden Inkoopordernr . 500-15221 Inkooporder datum 04.08.2020 Contactpersoon TTI Adnane Boujnane Factuuradres Leveringsadres VAN MARCKE\"   [− Tokens: 40  − Token-Labels: \"TTI Central Europe Opdrachtbevestiging Pagina 1 /1 Opdrachtbevestigingsnr . 0045478233 Besteldatum 04.08.2020 Klantnr . 0400033121 Techtronic Industries Central Europe GmbH , Postfach 100833 , DE-40708 Hilden Inkoopordernr . 500-15221 <REFERENTIE> Inkooporder datum 04.08.2020 Contactpersoon TTI Adnane Boujnane Factuuradres Leveringsadres VAN MARCKE\"]\n",
      "{'text': '500-15221', 'start_pos': 225, 'end_pos': 234, 'labels': [REFERENTIE (0.9997)]}\n",
      "****************************************************************************************************\n",
      "Sentence: \"Besteldatum 04.08.2020 Klantnr . 0400033121 Techtronic Industries Central Europe GmbH , Postfach 100833 , DE-40708 Hilden Inkoopordernr . 500-15221 Inkooporder datum 04.08.2020 Contactpersoon TTI Adnane Boujnane Factuuradres Leveringsadres VAN MARCKE NV LAR BLOK Z 5A VAN MARCKE EDC * liv\"   [− Tokens: 40  − Token-Labels: \"Besteldatum 04.08.2020 Klantnr . 0400033121 Techtronic Industries Central Europe GmbH , Postfach 100833 , DE-40708 Hilden Inkoopordernr . 500-15221 <REFERENTIE> Inkooporder datum 04.08.2020 Contactpersoon TTI Adnane Boujnane Factuuradres Leveringsadres VAN MARCKE NV LAR BLOK Z 5A VAN MARCKE EDC * liv\"]\n",
      "{'text': '500-15221', 'start_pos': 138, 'end_pos': 147, 'labels': [REFERENTIE (0.9987)]}\n",
      "****************************************************************************************************\n",
      "Sentence: \", Postfach 100833 , DE-40708 Hilden Inkoopordernr . 500-15221 Inkooporder datum 04.08.2020 Contactpersoon TTI Adnane Boujnane Factuuradres Leveringsadres VAN MARCKE NV LAR BLOK Z 5A VAN MARCKE EDC * liv * B-8511 COURTRAI ( AALBEKE ) LAR BLOK Z 5\"   [− Tokens: 40  − Token-Labels: \", Postfach 100833 , DE-40708 Hilden Inkoopordernr . 500-15221 <REFERENTIE> Inkooporder datum 04.08.2020 Contactpersoon TTI Adnane Boujnane Factuuradres Leveringsadres VAN MARCKE NV LAR BLOK Z 5A VAN MARCKE EDC * liv * B-8511 COURTRAI ( AALBEKE ) LAR BLOK Z 5\"]\n",
      "{'text': '500-15221', 'start_pos': 52, 'end_pos': 61, 'labels': [REFERENTIE (0.9984)]}\n",
      "****************************************************************************************************\n",
      "Sentence: \"datum 04.08.2020 Contactpersoon TTI Adnane Boujnane Factuuradres Leveringsadres VAN MARCKE NV LAR BLOK Z 5A VAN MARCKE EDC * liv * B-8511 COURTRAI ( AALBEKE ) LAR BLOK Z 5 B-8511 COURTRAI ( AALBEKE ) Regelnr . Artikelnr . Artikelomschrijving\"   [− Tokens: 40]\n",
      "****************************************************************************************************\n",
      "Sentence: \"NV LAR BLOK Z 5A VAN MARCKE EDC * liv * B-8511 COURTRAI ( AALBEKE ) LAR BLOK Z 5 B-8511 COURTRAI ( AALBEKE ) Regelnr . Artikelnr . Artikelomschrijving Aant./Eenh . Prijs/Eenh . Bedrag EAN EUR Artikelnr . Klant\"   [− Tokens: 40]\n",
      "****************************************************************************************************\n",
      "Sentence: \"* B-8511 COURTRAI ( AALBEKE ) LAR BLOK Z 5 B-8511 COURTRAI ( AALBEKE ) Regelnr . Artikelnr . Artikelomschrijving Aant./Eenh . Prijs/Eenh . Bedrag EAN EUR Artikelnr . Klant 100 48005226 SAEBELSAEGEBLATT 230 4 ST 32,90 / 1 Prijs\"   [− Tokens: 40]\n",
      "****************************************************************************************************\n",
      "Sentence: \"B-8511 COURTRAI ( AALBEKE ) Regelnr . Artikelnr . Artikelomschrijving Aant./Eenh . Prijs/Eenh . Bedrag EAN EUR Artikelnr . Klant 100 48005226 SAEBELSAEGEBLATT 230 4 ST 32,90 / 1 Prijs 131,60 045242483723 60% -78,96 /5MM ( 1 ) AX Carbide\"   [− Tokens: 40]\n",
      "****************************************************************************************************\n",
      "Sentence: \"Aant./Eenh . Prijs/Eenh . Bedrag EAN EUR Artikelnr . Klant 100 48005226 SAEBELSAEGEBLATT 230 4 ST 32,90 / 1 Prijs 131,60 045242483723 60% -78,96 /5MM ( 1 ) AX Carbide ETA 06.08.2020 Netto prijs 52,64 EUR 52,64 Totaalprijs excl .\"   [− Tokens: 40  − Token-Labels: \"Aant./Eenh . Prijs/Eenh . Bedrag EAN EUR Artikelnr . Klant 100 48005226 SAEBELSAEGEBLATT 230 4 ST 32,90 / 1 Prijs 131,60 045242483723 60% -78,96 /5MM ( 1 ) AX Carbide ETA 06.08.2020 <LEVERDATUM> Netto prijs 52,64 EUR 52,64 Totaalprijs excl .\"]\n",
      "{'text': '06.08.2020', 'start_pos': 171, 'end_pos': 181, 'labels': [LEVERDATUM (0.9843)]}\n",
      "****************************************************************************************************\n",
      "Sentence: \"100 48005226 SAEBELSAEGEBLATT 230 4 ST 32,90 / 1 Prijs 131,60 045242483723 60% -78,96 /5MM ( 1 ) AX Carbide ETA 06.08.2020 Netto prijs 52,64 EUR 52,64 Totaalprijs excl . Btw Btw 21% EUR 11,05 Factuurbedrag incl . Btw EUR\"   [− Tokens: 40  − Token-Labels: \"100 48005226 SAEBELSAEGEBLATT 230 4 ST 32,90 / 1 Prijs 131,60 045242483723 60% -78,96 /5MM ( 1 ) AX Carbide ETA 06.08.2020 <LEVERDATUM> Netto prijs 52,64 EUR 52,64 Totaalprijs excl . Btw Btw 21% EUR 11,05 Factuurbedrag incl . Btw EUR\"]\n",
      "{'text': '06.08.2020', 'start_pos': 112, 'end_pos': 122, 'labels': [LEVERDATUM (0.9931)]}\n",
      "****************************************************************************************************\n",
      "Sentence: \"131,60 045242483723 60% -78,96 /5MM ( 1 ) AX Carbide ETA 06.08.2020 Netto prijs 52,64 EUR 52,64 Totaalprijs excl . Btw Btw 21% EUR 11,05 Factuurbedrag incl . Btw EUR 63,69 Betalingsvoorwaarden Innerhalb 10 Tagen 2,000 % Skonto Innerhalb 30\"   [− Tokens: 40  − Token-Labels: \"131,60 045242483723 60% -78,96 /5MM ( 1 ) AX Carbide ETA 06.08.2020 <LEVERDATUM> Netto prijs 52,64 EUR 52,64 Totaalprijs excl . Btw Btw 21% EUR 11,05 Factuurbedrag incl . Btw EUR 63,69 Betalingsvoorwaarden Innerhalb 10 Tagen 2,000 % Skonto Innerhalb 30\"]\n",
      "{'text': '06.08.2020', 'start_pos': 57, 'end_pos': 67, 'labels': [LEVERDATUM (0.9975)]}\n",
      "****************************************************************************************************\n",
      "Sentence: \"ETA 06.08.2020 Netto prijs 52,64 EUR 52,64 Totaalprijs excl . Btw Btw 21% EUR 11,05 Factuurbedrag incl . Btw EUR 63,69 Betalingsvoorwaarden Innerhalb 10 Tagen 2,000 % Skonto Innerhalb 30 Tagen ohne Abzug Leveringsvoorwaarden DDP KORTRIJK Techtronic Industries Central Europe\"   [− Tokens: 40  − Token-Labels: \"ETA 06.08.2020 <LEVERDATUM> Netto prijs 52,64 EUR 52,64 Totaalprijs excl . Btw Btw 21% EUR 11,05 Factuurbedrag incl . Btw EUR 63,69 Betalingsvoorwaarden Innerhalb 10 Tagen 2,000 % Skonto Innerhalb 30 Tagen ohne Abzug Leveringsvoorwaarden DDP KORTRIJK Techtronic Industries Central Europe\"]\n",
      "{'text': '06.08.2020', 'start_pos': 4, 'end_pos': 14, 'labels': [LEVERDATUM (0.9671)]}\n",
      "****************************************************************************************************\n",
      "Sentence: \"Btw Btw 21% EUR 11,05 Factuurbedrag incl . Btw EUR 63,69 Betalingsvoorwaarden Innerhalb 10 Tagen 2,000 % Skonto Innerhalb 30 Tagen ohne Abzug Leveringsvoorwaarden DDP KORTRIJK Techtronic Industries Central Europe GmbH Local Contact : Bank : Deutsche Bank AG Itterpark\"   [− Tokens: 40]\n",
      "****************************************************************************************************\n",
      "Sentence: \"63,69 Betalingsvoorwaarden Innerhalb 10 Tagen 2,000 % Skonto Innerhalb 30 Tagen ohne Abzug Leveringsvoorwaarden DDP KORTRIJK Techtronic Industries Central Europe GmbH Local Contact : Bank : Deutsche Bank AG Itterpark 2 , DE-40724 Hilden TTI Office Belgium IBAN : DE41360700500101736702\"   [− Tokens: 40]\n",
      "****************************************************************************************************\n",
      "Sentence: \"Tagen ohne Abzug Leveringsvoorwaarden DDP KORTRIJK Techtronic Industries Central Europe GmbH Local Contact : Bank : Deutsche Bank AG Itterpark 2 , DE-40724 Hilden TTI Office Belgium IBAN : DE41360700500101736702 HRB Düsseldorf 53039 Keizer Karellaan 584 SWIFT-BIC : DEUTDEDEXXX VAT-IdNo\"   [− Tokens: 40]\n",
      "****************************************************************************************************\n",
      "Sentence: \"GmbH Local Contact : Bank : Deutsche Bank AG Itterpark 2 , DE-40724 Hilden TTI Office Belgium IBAN : DE41360700500101736702 HRB Düsseldorf 53039 Keizer Karellaan 584 SWIFT-BIC : DEUTDEDEXXX VAT-IdNo . BE0567.565.212 BE-1082 Brussel Managing Director : Stefan Schütz ,\"   [− Tokens: 40]\n",
      "****************************************************************************************************\n",
      "Sentence: \"2 , DE-40724 Hilden TTI Office Belgium IBAN : DE41360700500101736702 HRB Düsseldorf 53039 Keizer Karellaan 584 SWIFT-BIC : DEUTDEDEXXX VAT-IdNo . BE0567.565.212 BE-1082 Brussel Managing Director : Stefan Schütz , Arthur Arlt , Phone : +32 ( 0)70 21 02\"   [− Tokens: 40]\n",
      "****************************************************************************************************\n",
      "Sentence: \"HRB Düsseldorf 53039 Keizer Karellaan 584 SWIFT-BIC : DEUTDEDEXXX VAT-IdNo . BE0567.565.212 BE-1082 Brussel Managing Director : Stefan Schütz , Arthur Arlt , Phone : +32 ( 0)70 21 02 22 Alexandre Duarte Fax : +32 ( 0)70 21 02\"   [− Tokens: 40]\n",
      "****************************************************************************************************\n",
      "Sentence: \". BE0567.565.212 BE-1082 Brussel Managing Director : Stefan Schütz , Arthur Arlt , Phone : +32 ( 0)70 21 02 22 Alexandre Duarte Fax : +32 ( 0)70 21 02 21\"   [− Tokens: 31]\n",
      "****************************************************************************************************\n",
      "Sentence: \"Arthur Arlt , Phone : +32 ( 0)70 21 02 22 Alexandre Duarte Fax : +32 ( 0)70 21 02 21\"   [− Tokens: 21]\n",
      "****************************************************************************************************\n",
      "Sentence: \"22 Alexandre Duarte Fax : +32 ( 0)70 21 02 21\"   [− Tokens: 11]\n",
      "****************************************************************************************************\n",
      "Sentence: \"21\"   [− Tokens: 1]\n"
     ]
    }
   ],
   "source": [
    "from collections import defaultdict\n",
    "labels = defaultdict(list)\n",
    "\n",
    "for sentence,offset_mapping in zip(sentences,offset_mappings):\n",
    "    print('*'*100)\n",
    "    print(sentence)\n",
    "    \n",
    "    tags = sentence.to_dict(tag_type='ner')\n",
    "    \n",
    "    for entitie in tags['entities']:\n",
    "        print(entitie)\n",
    "    \n",
    "        start = find_offset(offset_mapping,entitie['start_pos'])\n",
    "        end = find_offset(offset_mapping,entitie['end_pos'])\n",
    "        label = entitie['labels'][0].value\n",
    "        score = entitie['labels'][0].score\n",
    "        \n",
    "        labels[(label,start,end)].append(score) "
   ]
  },
  {
   "cell_type": "code",
   "execution_count": 234,
   "metadata": {},
   "outputs": [
    {
     "data": {
      "text/plain": [
       "defaultdict(list,\n",
       "            {('REFERENTIE', 222, 231): [0.9997028708457947,\n",
       "              0.9986907839775085,\n",
       "              0.9983943104743958],\n",
       "             ('LEVERDATUM', 651, 661): [0.9842538833618164,\n",
       "              0.9931427240371704,\n",
       "              0.9974974989891052,\n",
       "              0.9670703411102295]})"
      ]
     },
     "execution_count": 234,
     "metadata": {},
     "output_type": "execute_result"
    }
   ],
   "source": [
    "labels"
   ]
  },
  {
   "cell_type": "code",
   "execution_count": 236,
   "metadata": {},
   "outputs": [],
   "source": [
    "labels = {key:sum(value)/len(value) for key,value in labels.items()}"
   ]
  },
  {
   "cell_type": "code",
   "execution_count": 237,
   "metadata": {},
   "outputs": [
    {
     "data": {
      "text/plain": [
       "{('REFERENTIE', 222, 231): 0.9989293217658997,\n",
       " ('LEVERDATUM', 651, 661): 0.9854911118745804}"
      ]
     },
     "execution_count": 237,
     "metadata": {},
     "output_type": "execute_result"
    }
   ],
   "source": [
    "labels"
   ]
  },
  {
   "cell_type": "code",
   "execution_count": null,
   "metadata": {},
   "outputs": [],
   "source": [
    "# Return list of named entities (dict):\n",
    "#         # \"label\"\n",
    "#         # \"start\"\n",
    "#         # \"end\"\n",
    "#         # \"score\"\n",
    "#         # \"context"
   ]
  },
  {
   "cell_type": "code",
   "execution_count": 242,
   "metadata": {},
   "outputs": [
    {
     "name": "stdout",
     "output_type": "stream",
     "text": [
      "(('LEVERDATUM', 651, 661), 0.9854911118745804)\n",
      "(('LEVERDATUM', 651, 661), 0.9854911118745804)\n"
     ]
    }
   ],
   "source": [
    "results = []\n",
    "for key,value in labels.items():\n",
    "    print(label)\n",
    "    \n",
    "    results.append({\n",
    "        'label':key[0],\n",
    "        'start':key[1],\n",
    "        'end':key[2],\n",
    "        'score':value,\n",
    "        'context':pdf_txt[key[1]:key[2]],\n",
    "    })"
   ]
  },
  {
   "cell_type": "code",
   "execution_count": 243,
   "metadata": {},
   "outputs": [
    {
     "data": {
      "text/plain": [
       "[{'label': 'REFERENTIE',\n",
       "  'start': 222,\n",
       "  'end': 231,\n",
       "  'score': 0.9989293217658997,\n",
       "  'context': '500-15221'},\n",
       " {'label': 'LEVERDATUM',\n",
       "  'start': 651,\n",
       "  'end': 661,\n",
       "  'score': 0.9854911118745804,\n",
       "  'context': '06.08.2020'}]"
      ]
     },
     "execution_count": 243,
     "metadata": {},
     "output_type": "execute_result"
    }
   ],
   "source": [
    "results"
   ]
  },
  {
   "cell_type": "code",
   "execution_count": null,
   "metadata": {},
   "outputs": [],
   "source": [
    "'Opdrachtbevestiging_0045478233_20200804.PDF'\n"
   ]
  },
  {
   "cell_type": "code",
   "execution_count": null,
   "metadata": {},
   "outputs": [],
   "source": [
    "# [{'label': 'REFERENTIE',\n",
    "#   'start': 222,\n",
    "#   'end': 231,\n",
    "#   'score': 0.9989293217658997,\n",
    "#   'context': '500-15221'},\n",
    "#  {'label': 'LEVERDATUM',\n",
    "#   'start': 651,\n",
    "#   'end': 661,\n",
    "#   'score': 0.9854911118745804,\n",
    "#   'context': '06.08.2020'}]"
   ]
  },
  {
   "cell_type": "code",
   "execution_count": null,
   "metadata": {},
   "outputs": [],
   "source": []
  },
  {
   "cell_type": "code",
   "execution_count": null,
   "metadata": {},
   "outputs": [],
   "source": []
  },
  {
   "cell_type": "code",
   "execution_count": null,
   "metadata": {},
   "outputs": [],
   "source": []
  },
  {
   "cell_type": "code",
   "execution_count": null,
   "metadata": {},
   "outputs": [],
   "source": []
  },
  {
   "cell_type": "code",
   "execution_count": null,
   "metadata": {
    "scrolled": false
   },
   "outputs": [],
   "source": []
  },
  {
   "cell_type": "code",
   "execution_count": null,
   "metadata": {},
   "outputs": [],
   "source": []
  },
  {
   "cell_type": "code",
   "execution_count": null,
   "metadata": {},
   "outputs": [],
   "source": []
  },
  {
   "cell_type": "code",
   "execution_count": null,
   "metadata": {},
   "outputs": [],
   "source": []
  }
 ],
 "metadata": {
  "kernelspec": {
   "display_name": "Python [conda env:VanMarcke]",
   "language": "python",
   "name": "conda-env-VanMarcke-py"
  }
 },
 "nbformat": 4,
 "nbformat_minor": 4
}
