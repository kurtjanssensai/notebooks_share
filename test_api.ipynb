{
 "cells": [
  {
   "cell_type": "code",
   "execution_count": 35,
   "metadata": {},
   "outputs": [],
   "source": [
    "import requests\n",
    "import json"
   ]
  },
  {
   "cell_type": "code",
   "execution_count": 36,
   "metadata": {},
   "outputs": [
    {
     "name": "stdout",
     "output_type": "stream",
     "text": [
      "<Response [200]>\n",
      "Upload succesful\n"
     ]
    }
   ],
   "source": [
    "url = \"http://55fd85c9933a.ngrok.io/pdf\"\n",
    "\n",
    "pdf = 'test.pdf'\n",
    "\n",
    "data = {\n",
    "    \"pdf\": pdf\n",
    "}\n",
    "\n",
    "files = {\n",
    "    'pdf': (pdf, open(pdf, 'rb'), \"application/pdf\")\n",
    "}\n",
    "\n",
    "response = requests.post(url, data=data, files=files)\n",
    "print(response)\n",
    "print(response.text)"
   ]
  },
  {
   "cell_type": "code",
   "execution_count": 34,
   "metadata": {},
   "outputs": [
    {
     "name": "stdout",
     "output_type": "stream",
     "text": [
      "<Response [200]>\n",
      "{\n",
      "  \"entities\": {\n",
      "    \"LEVERDATUM\": \"31/08/2020\", \n",
      "    \"REFERENTIE\": \"R2657667\"\n",
      "  }, \n",
      "  \"entities_found\": true, \n",
      "  \"pdf\": \"test1.pdf\"\n",
      "}\n",
      "\n",
      "<Response [200]>\n",
      "{\n",
      "  \"entities_found\": false, \n",
      "  \"klassifai_link\": \"http://www.klassif.ai\", \n",
      "  \"pdf\": \"test2.pdf\"\n",
      "}\n",
      "\n",
      "<Response [200]>\n",
      "{\n",
      "  \"entities_found\": false, \n",
      "  \"klassifai_link\": \"http://www.klassif.ai\", \n",
      "  \"pdf\": \"test2.pdf\"\n",
      "}\n",
      "\n",
      "<Response [200]>\n",
      "{\n",
      "  \"entities\": {\n",
      "    \"LEVERDATUM\": \"31/08/2020\", \n",
      "    \"REFERENTIE\": \"R2657667\"\n",
      "  }, \n",
      "  \"entities_found\": true, \n",
      "  \"pdf\": \"test1.pdf\"\n",
      "}\n",
      "\n",
      "<Response [200]>\n",
      "{\n",
      "  \"entities_found\": false, \n",
      "  \"klassifai_link\": \"http://www.klassif.ai\", \n",
      "  \"pdf\": \"test2.pdf\"\n",
      "}\n",
      "\n"
     ]
    }
   ],
   "source": [
    "for _ in range(5):\n",
    "    url = \"http://55fd85c9933a.ngrok.io/result\"\n",
    "    response = requests.get(url)\n",
    "    print(response)\n",
    "    print(response.text)"
   ]
  },
  {
   "cell_type": "code",
   "execution_count": 32,
   "metadata": {},
   "outputs": [
    {
     "data": {
      "text/plain": [
       "{'entities_found': False,\n",
       " 'klassifai_link': 'http://www.klassif.ai',\n",
       " 'pdf': 'test2.pdf'}"
      ]
     },
     "execution_count": 32,
     "metadata": {},
     "output_type": "execute_result"
    }
   ],
   "source": [
    "json.loads(response.text)"
   ]
  },
  {
   "cell_type": "code",
   "execution_count": null,
   "metadata": {},
   "outputs": [],
   "source": []
  }
 ],
 "metadata": {
  "kernelspec": {
   "display_name": "Python 3",
   "language": "python",
   "name": "python3"
  },
  "language_info": {
   "codemirror_mode": {
    "name": "ipython",
    "version": 3
   },
   "file_extension": ".py",
   "mimetype": "text/x-python",
   "name": "python",
   "nbconvert_exporter": "python",
   "pygments_lexer": "ipython3",
   "version": "3.7.8"
  }
 },
 "nbformat": 4,
 "nbformat_minor": 4
}
